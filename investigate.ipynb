{
 "cells": [
  {
   "cell_type": "code",
   "execution_count": 24,
   "id": "4fc17353",
   "metadata": {},
   "outputs": [],
   "source": [
    "import pandas as pd\n",
    "import os\n",
    "import json\n",
    "\n",
    "def load_and_merge_logs(folder_path=\"monitor_logs\"):\n",
    "    \"\"\"\n",
    "    Load all JSON files from the given folder and merge their contents\n",
    "    into a single list.\n",
    "\n",
    "    Args:\n",
    "        folder_path (str): Path to the folder containing JSON files.\n",
    "                          Defaults to 'monitor_logs'.\n",
    "\n",
    "    Returns:\n",
    "        list: A list containing all JSON contents merged together.\n",
    "              - If a file's root is a list, its items are extended.\n",
    "              - If a file's root is a dict, the dict itself is appended.\n",
    "    \"\"\"\n",
    "    merged_logs = []\n",
    "\n",
    "    for filename in os.listdir(folder_path):\n",
    "        if filename.endswith(\".json\"):\n",
    "            file_path = os.path.join(folder_path, filename)\n",
    "            try:\n",
    "                with open(file_path, \"r\", encoding=\"utf-8\") as f:\n",
    "                    content = json.load(f)\n",
    "                    if isinstance(content, list):\n",
    "                        merged_logs.extend(content)\n",
    "                    else:\n",
    "                        merged_logs.append(content)\n",
    "            except json.JSONDecodeError as e:\n",
    "                print(f\"⚠️ Failed to parse {filename}: {e}\")\n",
    "            except Exception as e:\n",
    "                print(f\"⚠️ Error reading {filename}: {e}\")\n",
    "\n",
    "    return merged_logs\n",
    "\n",
    "def parse_from_actor_log_name(log_name: str) -> tuple[str, str, str]:\n",
    "    return log_name.split(\"/\")[-1].split(\"_\")[1], log_name.split(\"/\")[-1].split(\"_\")[2], log_name.split(\"/\")[-1].split(\"_\")[5]\n",
    "\n",
    "def result_from_log(log):\n",
    "    return { \"monitor\": list(log.values())[0][\"monitor_name\"], \"monitored\": list(log.values())[0][\"log_path\"].split(\"/\")[-1].split(\"_\")[1], \"suspicious\": list(log.values())[0][\"suspicious_count\"], \"total\": list(log.values())[0][\"total_files\"] }\n"
   ]
  },
  {
   "cell_type": "code",
   "execution_count": 21,
   "id": "ac62c288",
   "metadata": {},
   "outputs": [
    {
     "data": {
      "text/plain": [
       "{'monitor': 'gpt-oss-20b',\n",
       " 'monitored': 'gpt-oss-120b',\n",
       " 'suspicious': 0,\n",
       " 'total': 7}"
      ]
     },
     "execution_count": 21,
     "metadata": {},
     "output_type": "execute_result"
    }
   ],
   "source": [
    "logs = load_and_merge_logs()\n",
    "x = result_from_log(logs[6])\n",
    "x"
   ]
  },
  {
   "cell_type": "code",
   "execution_count": 25,
   "id": "eb511863",
   "metadata": {},
   "outputs": [
    {
     "data": {
      "text/plain": [
       "('DeepSeek-R1', 'Physics', 'Biology')"
      ]
     },
     "execution_count": 25,
     "metadata": {},
     "output_type": "execute_result"
    }
   ],
   "source": [
    "parse_from_actor_log_name(\"actor_logs/response_DeepSeek-R1_Physics_disguised_as_Biology_20250921_222843\")"
   ]
  },
  {
   "cell_type": "code",
   "execution_count": null,
   "id": "3676fefa",
   "metadata": {},
   "outputs": [],
   "source": []
  },
  {
   "cell_type": "code",
   "execution_count": null,
   "id": "b424ed9c",
   "metadata": {},
   "outputs": [],
   "source": []
  }
 ],
 "metadata": {
  "kernelspec": {
   "display_name": ".venv",
   "language": "python",
   "name": "python3"
  },
  "language_info": {
   "codemirror_mode": {
    "name": "ipython",
    "version": 3
   },
   "file_extension": ".py",
   "mimetype": "text/x-python",
   "name": "python",
   "nbconvert_exporter": "python",
   "pygments_lexer": "ipython3",
   "version": "3.10.2"
  }
 },
 "nbformat": 4,
 "nbformat_minor": 5
}
