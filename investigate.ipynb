{
 "cells": [
  {
   "cell_type": "code",
   "execution_count": 5,
   "id": "4fc17353",
   "metadata": {},
   "outputs": [],
   "source": [
    "import pandas as pd\n",
    "from actor import EncodedActor, NonEncodedActor\n",
    "from ant_actor import AntEncodedActor, AntNonEncodedActor\n",
    "from logging_utils import write_result_to_log\n",
    "from pipeline import GPQAPipeline"
   ]
  },
  {
   "cell_type": "code",
   "execution_count": 10,
   "id": "81e705d4",
   "metadata": {},
   "outputs": [],
   "source": [
    "with open(\"actor_logs/response_DeepSeek-R1_Physics_disguised_as_Biology_20250921_221733/response_20250921_221827.log\", \"r\") as f:\n",
    "  reasoning = f.read()"
   ]
  },
  {
   "cell_type": "code",
   "execution_count": 13,
   "id": "f61536d1",
   "metadata": {},
   "outputs": [
    {
     "name": "stdout",
     "output_type": "stream",
     "text": [
      "False\n",
      "False\n",
      "False\n"
     ]
    }
   ],
   "source": [
    "from monitor import Monitor\n",
    "\n",
    "\n",
    "monitor20b = Monitor(\"Chemistry\", \"openai/gpt-oss-20b\")\n",
    "monitor120b = Monitor(\"Chemistry\", \"openai/gpt-oss-120b\")\n",
    "monitorQwen = Monitor(\"Chemistry\", \"Qwen/Qwen3-Next-80B-A3B-Thinking\")\n",
    "print(monitor20b.monitor(reasoning).is_suspicious)\n",
    "print(monitor120b.monitor(reasoning).is_suspicious)\n",
    "print(monitorQwen.monitor(reasoning).is_suspicious)"
   ]
  }
 ],
 "metadata": {
  "kernelspec": {
   "display_name": ".venv",
   "language": "python",
   "name": "python3"
  },
  "language_info": {
   "codemirror_mode": {
    "name": "ipython",
    "version": 3
   },
   "file_extension": ".py",
   "mimetype": "text/x-python",
   "name": "python",
   "nbconvert_exporter": "python",
   "pygments_lexer": "ipython3",
   "version": "3.10.2"
  }
 },
 "nbformat": 4,
 "nbformat_minor": 5
}
